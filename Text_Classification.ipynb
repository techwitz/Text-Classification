{
  "nbformat": 4,
  "nbformat_minor": 0,
  "metadata": {
    "colab": {
      "name": "Text-Classification.ipynb",
      "version": "0.3.2",
      "provenance": [],
      "include_colab_link": true
    },
    "kernelspec": {
      "name": "python3",
      "display_name": "Python 3"
    }
  },
  "cells": [
    {
      "cell_type": "markdown",
      "metadata": {
        "id": "view-in-github",
        "colab_type": "text"
      },
      "source": [
        "<a href=\"https://colab.research.google.com/github/techwitz/Text-Classification/blob/master/Text_Classification.ipynb\" target=\"_parent\"><img src=\"https://colab.research.google.com/assets/colab-badge.svg\" alt=\"Open In Colab\"/></a>"
      ]
    },
    {
      "cell_type": "code",
      "metadata": {
        "id": "hZ0IW_XsP9a-",
        "colab_type": "code",
        "colab": {}
      },
      "source": [
        "train = [\n",
        "    ('I love this sandwich.', 'pos'),\n",
        "    ('this is an amazing place!', 'pos'),\n",
        "    ('I feel very good about these beers.', 'pos'),\n",
        "    ('this is my best work.', 'pos'),\n",
        "    (\"what an awesome view\", 'pos'),\n",
        "    ('I do not like this restaurant', 'neg'),\n",
        "    ('I am tired of this stuff.', 'neg'),\n",
        "    (\"I can't deal with this\", 'neg'),\n",
        "    ('he is my sworn enemy!', 'neg'),\n",
        "    ('my boss is horrible.', 'neg')]\n",
        "\n",
        "test = [\n",
        "    ('the beer was good.', 'pos'),\n",
        "    ('I do not enjoy my job', 'neg'),\n",
        "    (\"I ain't feeling dandy today.\", 'neg'),\n",
        "    (\"I feel amazing!\", 'pos'),\n",
        "    ('Gary is a friend of mine.', 'pos'),\n",
        "    (\"I can't believe I'm doing this.\", 'neg')]"
      ],
      "execution_count": 0,
      "outputs": []
    },
    {
      "cell_type": "code",
      "metadata": {
        "id": "LEaczo1cQaTT",
        "colab_type": "code",
        "colab": {}
      },
      "source": [
        "from textblob.classifiers import NaiveBayesClassifier\n",
        "cl = NaiveBayesClassifier(train)"
      ],
      "execution_count": 0,
      "outputs": []
    },
    {
      "cell_type": "code",
      "metadata": {
        "id": "GRHjpmksQeBa",
        "colab_type": "code",
        "colab": {
          "base_uri": "https://localhost:8080/",
          "height": 34
        },
        "outputId": "da4553d3-f4b9-4130-eed0-3beb4806c62c"
      },
      "source": [
        "cl.classify(\"This is an amazing library!\")"
      ],
      "execution_count": 4,
      "outputs": [
        {
          "output_type": "execute_result",
          "data": {
            "text/plain": [
              "'pos'"
            ]
          },
          "metadata": {
            "tags": []
          },
          "execution_count": 4
        }
      ]
    },
    {
      "cell_type": "code",
      "metadata": {
        "id": "HQQHO9SFQn-z",
        "colab_type": "code",
        "colab": {
          "base_uri": "https://localhost:8080/",
          "height": 34
        },
        "outputId": "a3441bcc-8ce0-4a83-88b6-355b859b2572"
      },
      "source": [
        "prob_dist = cl.prob_classify(\"This one's a doozy.\")\n",
        "prob_dist.max()"
      ],
      "execution_count": 5,
      "outputs": [
        {
          "output_type": "execute_result",
          "data": {
            "text/plain": [
              "'pos'"
            ]
          },
          "metadata": {
            "tags": []
          },
          "execution_count": 5
        }
      ]
    },
    {
      "cell_type": "code",
      "metadata": {
        "id": "0GatG0zmQy0a",
        "colab_type": "code",
        "colab": {
          "base_uri": "https://localhost:8080/",
          "height": 34
        },
        "outputId": "95a0568a-6257-4ebe-d046-e82609fa23a3"
      },
      "source": [
        "round(prob_dist.prob(\"pos\"), 2)\n"
      ],
      "execution_count": 8,
      "outputs": [
        {
          "output_type": "execute_result",
          "data": {
            "text/plain": [
              "0.63"
            ]
          },
          "metadata": {
            "tags": []
          },
          "execution_count": 8
        }
      ]
    },
    {
      "cell_type": "code",
      "metadata": {
        "id": "SeLUia5YQ4Hl",
        "colab_type": "code",
        "colab": {
          "base_uri": "https://localhost:8080/",
          "height": 34
        },
        "outputId": "9c00e77d-f87c-4c01-963b-1f1871636fed"
      },
      "source": [
        "round(prob_dist.prob(\"neg\"), 2)"
      ],
      "execution_count": 7,
      "outputs": [
        {
          "output_type": "execute_result",
          "data": {
            "text/plain": [
              "0.37"
            ]
          },
          "metadata": {
            "tags": []
          },
          "execution_count": 7
        }
      ]
    },
    {
      "cell_type": "code",
      "metadata": {
        "id": "GSBSCzfvQ8Pe",
        "colab_type": "code",
        "colab": {}
      },
      "source": [
        ""
      ],
      "execution_count": 0,
      "outputs": []
    }
  ]
}