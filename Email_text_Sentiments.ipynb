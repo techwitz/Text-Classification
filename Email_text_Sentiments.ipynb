{
  "nbformat": 4,
  "nbformat_minor": 0,
  "metadata": {
    "colab": {
      "name": "Email-text Sentiments.ipynb",
      "version": "0.3.2",
      "provenance": [],
      "collapsed_sections": [],
      "include_colab_link": true
    },
    "kernelspec": {
      "name": "python3",
      "display_name": "Python 3"
    }
  },
  "cells": [
    {
      "cell_type": "markdown",
      "metadata": {
        "id": "view-in-github",
        "colab_type": "text"
      },
      "source": [
        "<a href=\"https://colab.research.google.com/github/techwitz/Text-Classification/blob/master/Email_text_Sentiments.ipynb\" target=\"_parent\"><img src=\"https://colab.research.google.com/assets/colab-badge.svg\" alt=\"Open In Colab\"/></a>"
      ]
    },
    {
      "cell_type": "code",
      "metadata": {
        "id": "8MflmpZQIa20",
        "colab_type": "code",
        "colab": {}
      },
      "source": [
        "from textblob import TextBlob"
      ],
      "execution_count": 0,
      "outputs": []
    },
    {
      "cell_type": "code",
      "metadata": {
        "id": "7HubU_ZWIf9X",
        "colab_type": "code",
        "colab": {}
      },
      "source": [
        "wiki = TextBlob(\"Hi All, \\\n",
        "Can you please see the below mentioned issues and confirm the resolutions ASAP. \\\n",
        "Tower C Elevator is again not working since yesterday morning. This is the 2nd incident within a month. Last time maintenance team took 7 days to resolve the issue and even today \\\n",
        "when I asked to Dharmendra Yadav about the progress, he is still not sure about the timeline or even the exact issue after more than 24 hours. \\\n",
        "This is really pathetic and we are facing this type of responses repeatedly. \\\n",
        "I am attaching some images regarding waterlogging in basement. \\\n",
        "                Can you please see the attached image and let me know how could even this happened to a high rise \\\n",
        "                buildings having so much of weight itself and this can lead to the  seriously damage to the building structure. \\\n",
        "Looking forward for your precise answer and actionable with their turnaround time to solve the above issues.\")"
      ],
      "execution_count": 0,
      "outputs": []
    },
    {
      "cell_type": "code",
      "metadata": {
        "id": "aGh9bx7pJUYC",
        "colab_type": "code",
        "outputId": "37b49d1e-2d64-4547-f5a9-e373dfdcb303",
        "colab": {
          "base_uri": "https://localhost:8080/",
          "height": 170
        }
      },
      "source": [
        "import nltk\n",
        "nltk.download('punkt')\n",
        "nltk.download('averaged_perceptron_tagger')\n",
        "nltk.download('brown')"
      ],
      "execution_count": 0,
      "outputs": [
        {
          "output_type": "stream",
          "text": [
            "[nltk_data] Downloading package punkt to /root/nltk_data...\n",
            "[nltk_data]   Package punkt is already up-to-date!\n",
            "[nltk_data] Downloading package averaged_perceptron_tagger to\n",
            "[nltk_data]     /root/nltk_data...\n",
            "[nltk_data]   Package averaged_perceptron_tagger is already up-to-\n",
            "[nltk_data]       date!\n",
            "[nltk_data] Downloading package brown to /root/nltk_data...\n",
            "[nltk_data]   Unzipping corpora/brown.zip.\n"
          ],
          "name": "stdout"
        },
        {
          "output_type": "execute_result",
          "data": {
            "text/plain": [
              "True"
            ]
          },
          "metadata": {
            "tags": []
          },
          "execution_count": 14
        }
      ]
    },
    {
      "cell_type": "code",
      "metadata": {
        "id": "8B4hIakFJt0F",
        "colab_type": "code",
        "outputId": "e0b1fada-e189-4744-d823-251068911464",
        "colab": {
          "base_uri": "https://localhost:8080/",
          "height": 1000
        }
      },
      "source": [
        "wiki.tags"
      ],
      "execution_count": 0,
      "outputs": [
        {
          "output_type": "execute_result",
          "data": {
            "text/plain": [
              "[('Hi', 'NNP'),\n",
              " ('All', 'NNP'),\n",
              " ('Can', 'NNP'),\n",
              " ('you', 'PRP'),\n",
              " ('please', 'VBP'),\n",
              " ('see', 'VB'),\n",
              " ('the', 'DT'),\n",
              " ('below', 'NN'),\n",
              " ('mentioned', 'VBD'),\n",
              " ('issues', 'NNS'),\n",
              " ('and', 'CC'),\n",
              " ('confirm', 'VB'),\n",
              " ('the', 'DT'),\n",
              " ('resolutions', 'NNS'),\n",
              " ('ASAP', 'NNP'),\n",
              " ('1', 'CD'),\n",
              " ('Tower', 'NNP'),\n",
              " ('C', 'NNP'),\n",
              " ('Elevator', 'NNP'),\n",
              " ('is', 'VBZ'),\n",
              " ('again', 'RB'),\n",
              " ('not', 'RB'),\n",
              " ('working', 'VBG'),\n",
              " ('since', 'IN'),\n",
              " ('yesterday', 'NN'),\n",
              " ('morning', 'NN'),\n",
              " ('This', 'DT'),\n",
              " ('is', 'VBZ'),\n",
              " ('the', 'DT'),\n",
              " ('2nd', 'JJ'),\n",
              " ('incident', 'NN'),\n",
              " ('within', 'IN'),\n",
              " ('a', 'DT'),\n",
              " ('month', 'NN'),\n",
              " ('Last', 'JJ'),\n",
              " ('time', 'NN'),\n",
              " ('maintenance', 'NN'),\n",
              " ('team', 'NN'),\n",
              " ('took', 'VBD'),\n",
              " ('7', 'CD'),\n",
              " ('days', 'NNS'),\n",
              " ('to', 'TO'),\n",
              " ('resolve', 'VB'),\n",
              " ('the', 'DT'),\n",
              " ('issue', 'NN'),\n",
              " ('and', 'CC'),\n",
              " ('even', 'RB'),\n",
              " ('today', 'NN'),\n",
              " ('when', 'WRB'),\n",
              " ('I', 'PRP'),\n",
              " ('asked', 'VBD'),\n",
              " ('to', 'TO'),\n",
              " ('Dharmendra', 'NNP'),\n",
              " ('Yadav', 'NNP'),\n",
              " ('about', 'IN'),\n",
              " ('the', 'DT'),\n",
              " ('progress', 'NN'),\n",
              " ('he', 'PRP'),\n",
              " ('is', 'VBZ'),\n",
              " ('still', 'RB'),\n",
              " ('not', 'RB'),\n",
              " ('sure', 'JJ'),\n",
              " ('about', 'IN'),\n",
              " ('the', 'DT'),\n",
              " ('timeline', 'NN'),\n",
              " ('or', 'CC'),\n",
              " ('even', 'RB'),\n",
              " ('the', 'DT'),\n",
              " ('exact', 'JJ'),\n",
              " ('issue', 'NN'),\n",
              " ('after', 'IN'),\n",
              " ('more', 'JJR'),\n",
              " ('than', 'IN'),\n",
              " ('24', 'CD'),\n",
              " ('hours', 'NNS'),\n",
              " ('This', 'DT'),\n",
              " ('is', 'VBZ'),\n",
              " ('really', 'RB'),\n",
              " ('pathetic', 'JJ'),\n",
              " ('and', 'CC'),\n",
              " ('we', 'PRP'),\n",
              " ('are', 'VBP'),\n",
              " ('facing', 'VBG'),\n",
              " ('this', 'DT'),\n",
              " ('type', 'NN'),\n",
              " ('of', 'IN'),\n",
              " ('responses', 'NNS'),\n",
              " ('repeatedly', 'RB'),\n",
              " ('2', 'CD'),\n",
              " ('I', 'PRP'),\n",
              " ('am', 'VBP'),\n",
              " ('attaching', 'VBG'),\n",
              " ('some', 'DT'),\n",
              " ('images', 'NNS'),\n",
              " ('regarding', 'VBG'),\n",
              " ('waterlogging', 'VBG'),\n",
              " ('in', 'IN'),\n",
              " ('basement', 'NN'),\n",
              " ('Can', 'MD'),\n",
              " ('you', 'PRP'),\n",
              " ('please', 'VB'),\n",
              " ('see', 'VB'),\n",
              " ('the', 'DT'),\n",
              " ('attached', 'JJ'),\n",
              " ('image', 'NN'),\n",
              " ('and', 'CC'),\n",
              " ('let', 'VB'),\n",
              " ('me', 'PRP'),\n",
              " ('know', 'VB'),\n",
              " ('how', 'WRB'),\n",
              " ('could', 'MD'),\n",
              " ('even', 'RB'),\n",
              " ('this', 'DT'),\n",
              " ('happened', 'VBD'),\n",
              " ('to', 'TO'),\n",
              " ('a', 'DT'),\n",
              " ('high', 'JJ'),\n",
              " ('rise', 'NN'),\n",
              " ('buildings', 'NNS'),\n",
              " ('having', 'VBG'),\n",
              " ('so', 'RB'),\n",
              " ('much', 'JJ'),\n",
              " ('of', 'IN'),\n",
              " ('weight', 'NN'),\n",
              " ('itself', 'PRP'),\n",
              " ('and', 'CC'),\n",
              " ('this', 'DT'),\n",
              " ('can', 'MD'),\n",
              " ('lead', 'VB'),\n",
              " ('to', 'TO'),\n",
              " ('the', 'DT'),\n",
              " ('seriously', 'RB'),\n",
              " ('damage', 'NN'),\n",
              " ('to', 'TO'),\n",
              " ('the', 'DT'),\n",
              " ('building', 'NN'),\n",
              " ('structure', 'NN'),\n",
              " ('Looking', 'VBG'),\n",
              " ('forward', 'RB'),\n",
              " ('for', 'IN'),\n",
              " ('your', 'PRP$'),\n",
              " ('precise', 'NN'),\n",
              " ('answer', 'NN'),\n",
              " ('and', 'CC'),\n",
              " ('actionable', 'JJ'),\n",
              " ('with', 'IN'),\n",
              " ('their', 'PRP$'),\n",
              " ('turnaround', 'NN'),\n",
              " ('time', 'NN'),\n",
              " ('to', 'TO'),\n",
              " ('solve', 'VB'),\n",
              " ('the', 'DT'),\n",
              " ('above', 'JJ'),\n",
              " ('issues', 'NNS')]"
            ]
          },
          "metadata": {
            "tags": []
          },
          "execution_count": 12
        }
      ]
    },
    {
      "cell_type": "code",
      "metadata": {
        "id": "stt3x3-YJ1Ii",
        "colab_type": "code",
        "outputId": "db0aed0f-3a97-4f64-bbfb-18209a047df5",
        "colab": {
          "base_uri": "https://localhost:8080/",
          "height": 54
        }
      },
      "source": [
        "wiki.noun_phrases"
      ],
      "execution_count": 0,
      "outputs": [
        {
          "output_type": "execute_result",
          "data": {
            "text/plain": [
              "WordList(['hi', 'asap', 'tower', 'elevator', 'time maintenance team', 'dharmendra yadav', 'exact issue', 'high rise buildings', 'looking', 'turnaround time', 'above issues'])"
            ]
          },
          "metadata": {
            "tags": []
          },
          "execution_count": 15
        }
      ]
    },
    {
      "cell_type": "markdown",
      "metadata": {
        "id": "ocdTj4vKKyvX",
        "colab_type": "text"
      },
      "source": [
        "**Sentiment Analysis**\n",
        "\n",
        "The sentiment property returns a namedtuple of the form Sentiment(polarity, subjectivity). The polarity score is a float within the range [-1.0, 1.0]. The subjectivity is a float within the range [0.0, 1.0] where 0.0 is very objective and 1.0 is very subjective."
      ]
    },
    {
      "cell_type": "code",
      "metadata": {
        "id": "MUKQWSlDKKWf",
        "colab_type": "code",
        "outputId": "bccd081c-9b2d-4fbd-85c4-67076e3075c5",
        "colab": {
          "base_uri": "https://localhost:8080/",
          "height": 34
        }
      },
      "source": [
        "wiki.sentiment"
      ],
      "execution_count": 0,
      "outputs": [
        {
          "output_type": "execute_result",
          "data": {
            "text/plain": [
              "Sentiment(polarity=-0.006666666666666659, subjectivity=0.45565656565656565)"
            ]
          },
          "metadata": {
            "tags": []
          },
          "execution_count": 16
        }
      ]
    },
    {
      "cell_type": "code",
      "metadata": {
        "id": "YcYyn2iJKdxx",
        "colab_type": "code",
        "outputId": "aa311b47-bc81-4157-c754-961f955082e1",
        "colab": {
          "base_uri": "https://localhost:8080/",
          "height": 34
        }
      },
      "source": [
        "wiki.sentiment.polarity"
      ],
      "execution_count": 0,
      "outputs": [
        {
          "output_type": "execute_result",
          "data": {
            "text/plain": [
              "-0.006666666666666659"
            ]
          },
          "metadata": {
            "tags": []
          },
          "execution_count": 18
        }
      ]
    },
    {
      "cell_type": "markdown",
      "metadata": {
        "id": "byS8U05SLtp2",
        "colab_type": "text"
      },
      "source": [
        "**Tokenization**\n",
        "\n",
        "You can break TextBlobs into words or sentences."
      ]
    },
    {
      "cell_type": "code",
      "metadata": {
        "id": "ollYpdlHLwAr",
        "colab_type": "code",
        "outputId": "bc512775-4eac-418f-ff3d-85df0c81524e",
        "colab": {
          "base_uri": "https://localhost:8080/",
          "height": 54
        }
      },
      "source": [
        "wiki.words"
      ],
      "execution_count": 0,
      "outputs": [
        {
          "output_type": "execute_result",
          "data": {
            "text/plain": [
              "WordList(['Hi', 'All', 'Can', 'you', 'please', 'see', 'the', 'below', 'mentioned', 'issues', 'and', 'confirm', 'the', 'resolutions', 'ASAP', '1', 'Tower', 'C', 'Elevator', 'is', 'again', 'not', 'working', 'since', 'yesterday', 'morning', 'This', 'is', 'the', '2nd', 'incident', 'within', 'a', 'month', 'Last', 'time', 'maintenance', 'team', 'took', '7', 'days', 'to', 'resolve', 'the', 'issue', 'and', 'even', 'today', 'when', 'I', 'asked', 'to', 'Dharmendra', 'Yadav', 'about', 'the', 'progress', 'he', 'is', 'still', 'not', 'sure', 'about', 'the', 'timeline', 'or', 'even', 'the', 'exact', 'issue', 'after', 'more', 'than', '24', 'hours', 'This', 'is', 'really', 'pathetic', 'and', 'we', 'are', 'facing', 'this', 'type', 'of', 'responses', 'repeatedly', '2', 'I', 'am', 'attaching', 'some', 'images', 'regarding', 'waterlogging', 'in', 'basement', 'Can', 'you', 'please', 'see', 'the', 'attached', 'image', 'and', 'let', 'me', 'know', 'how', 'could', 'even', 'this', 'happened', 'to', 'a', 'high', 'rise', 'buildings', 'having', 'so', 'much', 'of', 'weight', 'itself', 'and', 'this', 'can', 'lead', 'to', 'the', 'seriously', 'damage', 'to', 'the', 'building', 'structure', 'Looking', 'forward', 'for', 'your', 'precise', 'answer', 'and', 'actionable', 'with', 'their', 'turnaround', 'time', 'to', 'solve', 'the', 'above', 'issues'])"
            ]
          },
          "metadata": {
            "tags": []
          },
          "execution_count": 19
        }
      ]
    },
    {
      "cell_type": "code",
      "metadata": {
        "id": "0FBBsQVVL1uD",
        "colab_type": "code",
        "outputId": "89ae4e48-4ef4-4685-823d-c6fe3d24eb8f",
        "colab": {
          "base_uri": "https://localhost:8080/",
          "height": 173
        }
      },
      "source": [
        "wiki.sentences"
      ],
      "execution_count": 0,
      "outputs": [
        {
          "output_type": "execute_result",
          "data": {
            "text/plain": [
              "[Sentence(\"Hi All, Can you please see the below mentioned issues and confirm the resolutions ASAP.\"),\n",
              " Sentence(\"Tower C Elevator is again not working since yesterday morning.\"),\n",
              " Sentence(\"This is the 2nd incident within a month.\"),\n",
              " Sentence(\"Last time maintenance team took 7 days to resolve the issue and even today when I asked to Dharmendra Yadav about the progress, he is still not sure about the timeline or even the exact issue after more than 24 hours.\"),\n",
              " Sentence(\"This is really pathetic and we are facing this type of responses repeatedly.\"),\n",
              " Sentence(\"I am attaching some images regarding waterlogging in basement.\"),\n",
              " Sentence(\"Can you please see the attached image and let me know how could even this happened to a high rise                 buildings having so much of weight itself and this can lead to the  seriously damage to the building structure.\"),\n",
              " Sentence(\"Looking forward for your precise answer and actionable with their turnaround time to solve the above issues.\")]"
            ]
          },
          "metadata": {
            "tags": []
          },
          "execution_count": 26
        }
      ]
    },
    {
      "cell_type": "code",
      "metadata": {
        "id": "ETPfDWf4L3xC",
        "colab_type": "code",
        "outputId": "4aa85f70-74d2-4e3f-ac89-7587dc44ee53",
        "colab": {
          "base_uri": "https://localhost:8080/",
          "height": 153
        }
      },
      "source": [
        "for sentence in wiki.sentences:\n",
        "  print(sentence.sentiment)"
      ],
      "execution_count": 0,
      "outputs": [
        {
          "output_type": "stream",
          "text": [
            "Sentiment(polarity=0.0, subjectivity=0.0)\n",
            "Sentiment(polarity=0.0, subjectivity=0.0)\n",
            "Sentiment(polarity=0.0, subjectivity=0.0)\n",
            "Sentiment(polarity=0.125, subjectivity=0.4263888888888889)\n",
            "Sentiment(polarity=-1.0, subjectivity=1.0)\n",
            "Sentiment(polarity=0.0, subjectivity=0.0)\n",
            "Sentiment(polarity=0.00888888888888889, subjectivity=0.4688888888888889)\n",
            "Sentiment(polarity=0.2, subjectivity=0.45)\n"
          ],
          "name": "stdout"
        }
      ]
    },
    {
      "cell_type": "code",
      "metadata": {
        "id": "s0ONnnOVL-gc",
        "colab_type": "code",
        "outputId": "01266226-fd81-49a8-e132-4689b85ecbe2",
        "colab": {
          "base_uri": "https://localhost:8080/",
          "height": 54
        }
      },
      "source": [
        "wiki.ngrams"
      ],
      "execution_count": 0,
      "outputs": [
        {
          "output_type": "execute_result",
          "data": {
            "text/plain": [
              "<bound method BaseBlob.ngrams of TextBlob(\"Hi All, Can you please see the below mentioned issues and confirm the resolutions ASAP. Tower C Elevator is again not working since yesterday morning. This is the 2nd incident within a month. Last time maintenance team took 7 days to resolve the issue and even today when I asked to Dharmendra Yadav about the progress, he is still not sure about the timeline or even the exact issue after more than 24 hours. This is really pathetic and we are facing this type of responses repeatedly. I am attaching some images regarding waterlogging in basement.                 Can you please see the attached image and let me know how could even this happened to a high rise                 buildings having so much of weight itself and this can lead to the  seriously damage to the building structure. Looking forward for your precise answer and actionable with their turnaround time to solve the above issues.\")>"
            ]
          },
          "metadata": {
            "tags": []
          },
          "execution_count": 27
        }
      ]
    },
    {
      "cell_type": "code",
      "metadata": {
        "id": "CVqkfTc8M-7b",
        "colab_type": "code",
        "colab": {}
      },
      "source": [
        ""
      ],
      "execution_count": 0,
      "outputs": []
    },
    {
      "cell_type": "code",
      "metadata": {
        "id": "rnAN8HW2NoHs",
        "colab_type": "code",
        "colab": {}
      },
      "source": [
        ""
      ],
      "execution_count": 0,
      "outputs": []
    }
  ]
}